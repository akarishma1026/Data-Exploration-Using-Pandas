{
 "cells": [
  {
   "cell_type": "markdown",
   "id": "ff309b1d",
   "metadata": {},
   "source": [
    "# Data Exploration using Pandas"
   ]
  },
  {
   "cell_type": "markdown",
   "id": "147347c7",
   "metadata": {},
   "source": [
    "## Melbourne Housing Dataset"
   ]
  },
  {
   "cell_type": "code",
   "execution_count": null,
   "id": "85097c27",
   "metadata": {},
   "outputs": [],
   "source": [
    "import pandas as pd"
   ]
  },
  {
   "cell_type": "code",
   "execution_count": null,
   "id": "5df9e0e6",
   "metadata": {},
   "outputs": [],
   "source": [
    "estate=pd.read_csv(\"C:/Users/akari/OneDrive/Desktop/estate.csv\")"
   ]
  },
  {
   "cell_type": "markdown",
   "id": "31cef818",
   "metadata": {},
   "source": [
    "#### Using .read.csv() helps to import the csv file into the notebook"
   ]
  },
  {
   "cell_type": "code",
   "execution_count": null,
   "id": "65d4abf0",
   "metadata": {},
   "outputs": [],
   "source": [
    "estate"
   ]
  },
  {
   "cell_type": "code",
   "execution_count": null,
   "id": "e98b2abf",
   "metadata": {},
   "outputs": [],
   "source": [
    "estate.head(10)"
   ]
  },
  {
   "cell_type": "markdown",
   "id": "02bc442f",
   "metadata": {},
   "source": [
    "#### Using .head(10) helps us to get the first 10 observations of data"
   ]
  },
  {
   "cell_type": "code",
   "execution_count": null,
   "id": "5c93dbc4",
   "metadata": {},
   "outputs": [],
   "source": [
    "estate.tail(5)"
   ]
  },
  {
   "cell_type": "markdown",
   "id": "b3af9115",
   "metadata": {},
   "source": [
    "#### Using .tail() helps us to get the last 5 observations of the data"
   ]
  },
  {
   "cell_type": "code",
   "execution_count": null,
   "id": "a94f878d",
   "metadata": {},
   "outputs": [],
   "source": [
    "estate.info()"
   ]
  },
  {
   "cell_type": "markdown",
   "id": "f263a5cc",
   "metadata": {},
   "source": [
    "#### Using.info() gives us the information about the dataset such as columns,count and datatype "
   ]
  },
  {
   "cell_type": "code",
   "execution_count": null,
   "id": "777a1885",
   "metadata": {},
   "outputs": [],
   "source": [
    "estate.describe()"
   ]
  },
  {
   "cell_type": "markdown",
   "id": "e90099e2",
   "metadata": {},
   "source": [
    "#### Using .describe() gives us the statistical information of the dataset such as count, mean, standard deviation,minimum,maximum and Quaters"
   ]
  },
  {
   "cell_type": "code",
   "execution_count": null,
   "id": "cec7dc96",
   "metadata": {},
   "outputs": [],
   "source": [
    "estate.count()"
   ]
  },
  {
   "cell_type": "markdown",
   "id": "f6380d38",
   "metadata": {},
   "source": [
    "#### Using .count() gives us the count of observations under each variable"
   ]
  },
  {
   "cell_type": "code",
   "execution_count": null,
   "id": "54eec1a3",
   "metadata": {},
   "outputs": [],
   "source": [
    "estate.shape"
   ]
  },
  {
   "cell_type": "markdown",
   "id": "5ea39403",
   "metadata": {},
   "source": [
    "#### Using .shape() gives us the structure of the dataset such as number of number of observations and variables"
   ]
  },
  {
   "cell_type": "code",
   "execution_count": null,
   "id": "bad49945",
   "metadata": {},
   "outputs": [],
   "source": [
    "estate.columns"
   ]
  },
  {
   "cell_type": "markdown",
   "id": "27aa2210",
   "metadata": {},
   "source": [
    "#### Using .columns shows the names of all the variables."
   ]
  },
  {
   "cell_type": "code",
   "execution_count": null,
   "id": "a07ac461",
   "metadata": {},
   "outputs": [],
   "source": [
    "estate.index"
   ]
  },
  {
   "cell_type": "markdown",
   "id": "7d755423",
   "metadata": {},
   "source": [
    "#### Using .index describes the start of index and where it ends and the number of steps between index"
   ]
  },
  {
   "cell_type": "code",
   "execution_count": null,
   "id": "19edae50",
   "metadata": {},
   "outputs": [],
   "source": [
    "estate.sort_values(['Price'],ascending=False)"
   ]
  },
  {
   "cell_type": "markdown",
   "id": "f242a860",
   "metadata": {},
   "source": [
    "#### Using .sort_values() helps to sort the values either in ascending or descending order. Here the dataset is sorted based on the price from the highest to the lowest."
   ]
  },
  {
   "cell_type": "code",
   "execution_count": null,
   "id": "b1f84e6f",
   "metadata": {},
   "outputs": [],
   "source": [
    "estate['Rooms'].value_counts()"
   ]
  },
  {
   "cell_type": "markdown",
   "id": "37a5d677",
   "metadata": {},
   "source": [
    "#### Using .value_counts() helps us to get the data on how many times the values has been repeated. Here we can find how many houses in Melbourne have the certain number of rooms."
   ]
  },
  {
   "cell_type": "code",
   "execution_count": null,
   "id": "7efac462",
   "metadata": {},
   "outputs": [],
   "source": [
    "estate.drop_duplicates()"
   ]
  },
  {
   "cell_type": "code",
   "execution_count": null,
   "id": "cd7ceb86",
   "metadata": {},
   "outputs": [],
   "source": [
    "estate"
   ]
  },
  {
   "cell_type": "markdown",
   "id": "89724c62",
   "metadata": {},
   "source": [
    "#### Using .drop_duplicates() helps us to remove the duplicated data"
   ]
  },
  {
   "cell_type": "code",
   "execution_count": null,
   "id": "b4ea58ff",
   "metadata": {},
   "outputs": [],
   "source": [
    "Rate=estate[['Rooms','Price']]"
   ]
  },
  {
   "cell_type": "code",
   "execution_count": null,
   "id": "275353fc",
   "metadata": {},
   "outputs": [],
   "source": [
    "Rate"
   ]
  },
  {
   "cell_type": "markdown",
   "id": "c6610e03",
   "metadata": {},
   "source": [
    "#### This is making subsets of the dataset. Here it is the subset of Rooms and Price which helps us to understand how the price differs based on the number of rooms."
   ]
  },
  {
   "cell_type": "code",
   "execution_count": null,
   "id": "9408ec14",
   "metadata": {},
   "outputs": [],
   "source": [
    "size=estate[estate['Landsize']>1000]"
   ]
  },
  {
   "cell_type": "code",
   "execution_count": null,
   "id": "e1b8d036",
   "metadata": {},
   "outputs": [],
   "source": [
    "size"
   ]
  },
  {
   "cell_type": "markdown",
   "id": "1fff31b8",
   "metadata": {},
   "source": [
    "#### This filters the data of your needs. Here the dataset is filtered based on the landsize more than 1000"
   ]
  },
  {
   "cell_type": "code",
   "execution_count": null,
   "id": "7ea0b203",
   "metadata": {},
   "outputs": [],
   "source": [
    "estate['Rest_land']=estate['Landsize']-estate['BuildingArea']"
   ]
  },
  {
   "cell_type": "code",
   "execution_count": null,
   "id": "89b545a4",
   "metadata": {},
   "outputs": [],
   "source": [
    "estate"
   ]
  },
  {
   "cell_type": "markdown",
   "id": "a61d2ba5",
   "metadata": {},
   "source": [
    "#### This makes us to add new varaiable in the dataset. Here we have added a new varaiable by taking diffrence between the landsize and the Buliding area."
   ]
  },
  {
   "cell_type": "code",
   "execution_count": null,
   "id": "a137e2d0",
   "metadata": {},
   "outputs": [],
   "source": [
    "estate_index=estate.set_index(\"SellerG\")"
   ]
  },
  {
   "cell_type": "code",
   "execution_count": null,
   "id": "622cd6fb",
   "metadata": {},
   "outputs": [],
   "source": [
    "estate_index"
   ]
  },
  {
   "cell_type": "markdown",
   "id": "be7d7222",
   "metadata": {},
   "source": [
    "#### Using .set_index helps us to set the variable as the index"
   ]
  },
  {
   "cell_type": "code",
   "execution_count": null,
   "id": "b1b0d859",
   "metadata": {},
   "outputs": [],
   "source": [
    "estate_index=estate_index.reset_index()"
   ]
  },
  {
   "cell_type": "code",
   "execution_count": null,
   "id": "22dd03f3",
   "metadata": {},
   "outputs": [],
   "source": [
    "estate_index"
   ]
  },
  {
   "cell_type": "markdown",
   "id": "15aa415f",
   "metadata": {},
   "source": [
    "#### This function helps to reset the index"
   ]
  },
  {
   "cell_type": "code",
   "execution_count": null,
   "id": "be9374ed",
   "metadata": {},
   "outputs": [],
   "source": [
    "estate_loc=estate.loc[(estate.Suburb=='Yarraville')&(estate.Rooms>=5)]"
   ]
  },
  {
   "cell_type": "code",
   "execution_count": null,
   "id": "17eab580",
   "metadata": {},
   "outputs": [],
   "source": [
    "estate_loc"
   ]
  },
  {
   "cell_type": "markdown",
   "id": "d994874e",
   "metadata": {},
   "source": [
    "#### Using .loc we can locate a particular set of data "
   ]
  },
  {
   "cell_type": "code",
   "execution_count": null,
   "id": "ee4adb96",
   "metadata": {},
   "outputs": [],
   "source": [
    "estate_iloc=estate.iloc[0:5,4:6]"
   ]
  },
  {
   "cell_type": "code",
   "execution_count": null,
   "id": "25c24167",
   "metadata": {},
   "outputs": [],
   "source": [
    "estate_iloc"
   ]
  },
  {
   "cell_type": "markdown",
   "id": "bbc58267",
   "metadata": {},
   "source": [
    "#### Using .iloc helps us to locacte the particular set of data using index"
   ]
  },
  {
   "cell_type": "code",
   "execution_count": null,
   "id": "aa714148",
   "metadata": {},
   "outputs": [],
   "source": [
    "estate.agg=estate.groupby(\"Regionname\")['Price'].mean()"
   ]
  },
  {
   "cell_type": "code",
   "execution_count": null,
   "id": "ffced674",
   "metadata": {},
   "outputs": [],
   "source": [
    "estate.agg"
   ]
  },
  {
   "cell_type": "markdown",
   "id": "8dd43907",
   "metadata": {},
   "source": [
    "#### .groupby is an aggregriate function which groups the data."
   ]
  },
  {
   "cell_type": "code",
   "execution_count": null,
   "id": "5b9eb5e5",
   "metadata": {},
   "outputs": [],
   "source": [
    "estate['Rooms']=estate['Rooms'].astype('object')"
   ]
  },
  {
   "cell_type": "code",
   "execution_count": null,
   "id": "a5e588bf",
   "metadata": {},
   "outputs": [],
   "source": [
    "estate.info()"
   ]
  },
  {
   "cell_type": "markdown",
   "id": "a9e0a6ae",
   "metadata": {},
   "source": [
    "#### Using .astype changes the type of the dataset that we want to cahnge either as object or integer"
   ]
  },
  {
   "cell_type": "code",
   "execution_count": null,
   "id": "5ecbe11c",
   "metadata": {},
   "outputs": [],
   "source": [
    "estate['Rooms']=estate['Rooms'].astype('int')"
   ]
  },
  {
   "cell_type": "code",
   "execution_count": null,
   "id": "50b73476",
   "metadata": {},
   "outputs": [],
   "source": [
    "estate.info()"
   ]
  }
 ],
 "metadata": {
  "kernelspec": {
   "display_name": "Python 3 (ipykernel)",
   "language": "python",
   "name": "python3"
  },
  "language_info": {
   "codemirror_mode": {
    "name": "ipython",
    "version": 3
   },
   "file_extension": ".py",
   "mimetype": "text/x-python",
   "name": "python",
   "nbconvert_exporter": "python",
   "pygments_lexer": "ipython3",
   "version": "3.9.13"
  }
 },
 "nbformat": 4,
 "nbformat_minor": 5
}
